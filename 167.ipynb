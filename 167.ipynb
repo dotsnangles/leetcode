{
 "cells": [
  {
   "cell_type": "code",
   "execution_count": null,
   "metadata": {},
   "outputs": [],
   "source": [
    "# Given a 1-indexed array of integers numbers that is already sorted in non-decreasing order, find two numbers such that they add up to a specific target number. Let these two numbers be numbers[index1] and numbers[index2] where 1 <= index1 < index2 <= numbers.length.\n",
    "\n",
    "# Return the indices of the two numbers, index1 and index2, added by one as an integer array [index1, index2] of length 2.\n",
    "\n",
    "# The tests are generated such that there is exactly one solution. You may not use the same element twice.\n",
    "\n",
    "# Your solution must use only constant extra space.\n",
    "\n",
    "# Input: numbers = [2,7,11,15], target = 9\n",
    "# Output: [1,2]\n",
    "# Explanation: The sum of 2 and 7 is 9. Therefore, index1 = 1, index2 = 2. We return [1, 2].\n",
    "\n",
    "numbers = [2, 7, 11, 15]\n",
    "target = 9\n",
    "\n",
    "indices = []\n",
    "for i in range(len(numbers)):\n",
    "    for j in range(i+1, len(numbers)):\n",
    "        if numbers[i] + numbers[j] == target:\n",
    "            indices.append(i+1)\n",
    "            indices.append(j+1)\n",
    "# time exceeded.\n",
    "\n",
    "class Solution: # mine\n",
    "    def twoSum(self, numbers: List[int], target: int) -> List[int]:\n",
    "        for i in range(len(numbers)):\n",
    "            left = i\n",
    "            right = len(numbers) - 1\n",
    "\n",
    "            while left < right:\n",
    "                summed = numbers[left] + numbers[right]\n",
    "                if summed == target:\n",
    "                    return [left+1, right+1]\n",
    "                elif summed > target:\n",
    "                    right -= 1\n",
    "                else:\n",
    "                    left += 1"
   ]
  }
 ],
 "metadata": {
  "language_info": {
   "name": "python"
  },
  "orig_nbformat": 4
 },
 "nbformat": 4,
 "nbformat_minor": 2
}
