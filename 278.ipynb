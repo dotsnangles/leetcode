{
 "cells": [
  {
   "attachments": {},
   "cell_type": "markdown",
   "metadata": {},
   "source": [
    "- Binary Search is a searching algorithm \n",
    "- used in a **sorted array** \n",
    "- by repeatedly **dividing** the search interval **in half**. \n",
    "- The idea of binary search is to use the information \n",
    "- that the array is sorted and reduce the time complexity to **O(Log n)**. "
   ]
  },
  {
   "cell_type": "code",
   "execution_count": null,
   "metadata": {},
   "outputs": [],
   "source": [
    "# 278. First Bad Version\n",
    "\n",
    "# You are a product manager and currently leading a team to develop a new product. Unfortunately, the latest version of your product fails the quality check. Since each version is developed based on the previous version, all the versions after a bad version are also bad.\n",
    "\n",
    "# Suppose you have n versions [1, 2, ..., n] and you want to find out the first bad one, which causes all the following ones to be bad.\n",
    "\n",
    "# You are given an API bool isBadVersion(version) which returns whether version is bad. Implement a function to find the first bad version. You should minimize the number of calls to the API.\n",
    "\n",
    "# The isBadVersion API is already defined for you.\n",
    "# def isBadVersion(version: int) -> bool:\n",
    "\n",
    "class Solution:\n",
    "    def firstBadVersion(self, n: int) -> int:\n",
    "        left = 1\n",
    "        right = n\n",
    "        while left < right:\n",
    "            mid = left + (right - left) // 2\n",
    "            if isBadVersion(mid):\n",
    "                right = mid\n",
    "            else:\n",
    "                left = mid + 1\n",
    "        return left"
   ]
  },
  {
   "cell_type": "code",
   "execution_count": 36,
   "metadata": {},
   "outputs": [
    {
     "name": "stdout",
     "output_type": "stream",
     "text": [
      "[7, 8, 9, 10, 11, 12, 13, 14, 15, 16]\n",
      "11\n",
      "[7, 8, 9, 10, 11, 12, 13, 14, 15, 16]\n",
      "11\n"
     ]
    }
   ],
   "source": [
    "# 두 자연수 사이의 중간값 구하기\n",
    "\n",
    "def get_mid_v1(n, m):\n",
    "    print(list(range(n, m+1)))\n",
    "    print((n + m) // 2)\n",
    "\n",
    "def get_mid_v2(n, m):\n",
    "    \"\"\"\n",
    "    use this version to prevent the overflow.\n",
    "    \"\"\"\n",
    "    print(list(range(n, m+1)))\n",
    "    print(n + (m - n) // 2)\n",
    "\n",
    "nm = [7, 16]\n",
    "get_mid_v1(*nm)\n",
    "get_mid_v2(*nm)"
   ]
  }
 ],
 "metadata": {
  "kernelspec": {
   "display_name": "base",
   "language": "python",
   "name": "python3"
  },
  "language_info": {
   "codemirror_mode": {
    "name": "ipython",
    "version": 3
   },
   "file_extension": ".py",
   "mimetype": "text/x-python",
   "name": "python",
   "nbconvert_exporter": "python",
   "pygments_lexer": "ipython3",
   "version": "3.9.12"
  },
  "orig_nbformat": 4
 },
 "nbformat": 4,
 "nbformat_minor": 2
}
