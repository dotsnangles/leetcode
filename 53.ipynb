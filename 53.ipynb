{
 "cells": [
  {
   "cell_type": "code",
   "execution_count": 15,
   "metadata": {},
   "outputs": [],
   "source": [
    "# Given an integer array nums, find the \n",
    "# subarray\n",
    "#  with the largest sum, and return its sum.\n",
    "\n",
    " \n",
    "\n",
    "# Example 1:\n",
    "\n",
    "# Input: nums = [-2,1,-3,4,-1,2,1,-5,4]\n",
    "# Output: 6\n",
    "# Explanation: The subarray [4,-1,2,1] has the largest sum 6.\n",
    "\n",
    "# class Solution(object):\n",
    "#     def maxSubArray(nums):\n",
    "#         temp = nums[0]\n",
    "#         for i in range(len(nums)):\n",
    "#             for j in range(i+1, len(nums)):\n",
    "#                 summed = sum(nums[i:j+1])\n",
    "#                 if temp < summed:\n",
    "#                     temp = summed\n",
    "#         return temp\n",
    "\n",
    "# Wrong\n",
    "\n",
    "# class Solution:\n",
    "#     def maxSubArray(self, nums: List[int]) -> int:\n",
    "#         temp = None\n",
    "#         for num in nums:\n",
    "#             if temp == None:\n",
    "#                 temp = num\n",
    "#             else:\n",
    "#                 if temp < num:\n",
    "#                     temp =  num\n",
    "#         for i in range(len(nums)):\n",
    "#             for j in range(i+1, len(nums)):\n",
    "#                 summed = sum(nums[i:j+1])\n",
    "#                 if temp < summed:\n",
    "#                     temp = summed\n",
    "#         return temp\n",
    "\n",
    "# Time Exceeded.\n",
    "\n",
    "class Solution:\n",
    "    def maxSubArray(self, nums):\n",
    "        n = len(nums)\n",
    "        maximumSum = float('-inf')\n",
    "        currSumSubarray = 0\n",
    "        for i in range(n):\n",
    "            currSumSubarray += nums[i]\n",
    "            maximumSum = max(maximumSum, currSumSubarray)\n",
    "            currSumSubarray = max(currSumSubarray, 0)\n",
    "        return maximumSum\n",
    "    \n",
    "class Solution:\n",
    "    def maxSubArray(self, nums) -> int:\n",
    "        for i in range(1, len(nums)):\n",
    "            if nums[i-1] >= 0:\n",
    "                nums[i] += nums[i-1]\n",
    "        return max(nums)"
   ]
  },
  {
   "cell_type": "code",
   "execution_count": 16,
   "metadata": {},
   "outputs": [
    {
     "name": "stdout",
     "output_type": "stream",
     "text": [
      "0 2\n",
      "0 3\n",
      "0 4\n",
      "0 5\n",
      "1 3\n",
      "1 4\n",
      "1 5\n",
      "2 4\n",
      "2 5\n",
      "3 5\n"
     ]
    },
    {
     "data": {
      "text/plain": [
       "23"
      ]
     },
     "execution_count": 16,
     "metadata": {},
     "output_type": "execute_result"
    }
   ],
   "source": [
    "nums = [5,4,-1,7,8]\n",
    "Solution.maxSubArray(nums)"
   ]
  },
  {
   "cell_type": "code",
   "execution_count": 10,
   "metadata": {},
   "outputs": [
    {
     "name": "stdout",
     "output_type": "stream",
     "text": [
      "5\n",
      "4\n",
      "-1\n",
      "7\n",
      "8\n"
     ]
    }
   ],
   "source": [
    "for i in range(len(nums)):\n",
    "    print(nums[i])"
   ]
  }
 ],
 "metadata": {
  "kernelspec": {
   "display_name": "base",
   "language": "python",
   "name": "python3"
  },
  "language_info": {
   "codemirror_mode": {
    "name": "ipython",
    "version": 3
   },
   "file_extension": ".py",
   "mimetype": "text/x-python",
   "name": "python",
   "nbconvert_exporter": "python",
   "pygments_lexer": "ipython3",
   "version": "3.9.12"
  },
  "orig_nbformat": 4
 },
 "nbformat": 4,
 "nbformat_minor": 2
}
