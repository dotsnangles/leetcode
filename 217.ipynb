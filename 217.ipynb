{
 "cells": [
  {
   "cell_type": "code",
   "execution_count": null,
   "metadata": {},
   "outputs": [],
   "source": [
    "# class Solution:\n",
    "#     def containsDuplicate(self, nums: List[int]) -> bool:\n",
    "#         for i in range(len(nums)):\n",
    "#             for j in range(i+1, len(nums)):\n",
    "#                 if nums[i] == nums[j]:\n",
    "#                     return True\n",
    "#         return False\n",
    "\n",
    "# time exceeded.\n",
    "\n",
    "# class Solution:\n",
    "#     def containsDuplicate(self, nums: List[int]) -> bool:\n",
    "#         for i in range(len(nums)):\n",
    "#             temp = [*nums]\n",
    "#             popped = temp.pop(i)\n",
    "#             if popped in temp:\n",
    "#                 return True\n",
    "#         return False\n",
    "\n",
    "# time exceeded.\n",
    "\n",
    "# Time complexity: O(n)\n",
    "# Space complexity: O(n)\n",
    "class Solution(object):\n",
    "    def containsDuplicate(self, nums):\n",
    "        hset = set()\n",
    "        for idx in nums:\n",
    "            if idx in hset:\n",
    "                return True\n",
    "            else:\n",
    "                hset.add(idx)\n",
    "\n",
    "\n",
    "class Solution(object):\n",
    "    def containsDuplicate(self, nums):\n",
    "        seen = set()\n",
    "        for num in nums:\n",
    "            if num in seen:\n",
    "                return True\n",
    "            else:\n",
    "                seen.add(num)"
   ]
  }
 ],
 "metadata": {
  "language_info": {
   "name": "python"
  },
  "orig_nbformat": 4
 },
 "nbformat": 4,
 "nbformat_minor": 2
}
