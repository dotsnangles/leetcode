{
 "cells": [
  {
   "cell_type": "code",
   "execution_count": 1,
   "metadata": {},
   "outputs": [],
   "source": [
    "# 557. Reverse Words in a String III\n",
    "# Given a string s, reverse the order of characters in each word within a sentence while still preserving whitespace and initial word order.\n",
    "\n",
    " \n",
    "\n",
    "# Example 1:\n",
    "\n",
    "# Input: s = \"Let's take LeetCode contest\"\n",
    "# Output: \"s'teL ekat edoCteeL tsetnoc\"\n",
    "# Example 2:\n",
    "\n",
    "# Input: s = \"God Ding\"\n",
    "# Output: \"doG gniD\""
   ]
  },
  {
   "cell_type": "code",
   "execution_count": null,
   "metadata": {},
   "outputs": [],
   "source": [
    "class Solution:\n",
    "    def reverseWords(self, s: str) -> str:\n",
    "        words = s.split()\n",
    "        r_words = [word[::-1] for word in words]\n",
    "        return' '.join(r_words)"
   ]
  }
 ],
 "metadata": {
  "kernelspec": {
   "display_name": "base",
   "language": "python",
   "name": "python3"
  },
  "language_info": {
   "codemirror_mode": {
    "name": "ipython",
    "version": 3
   },
   "file_extension": ".py",
   "mimetype": "text/x-python",
   "name": "python",
   "nbconvert_exporter": "python",
   "pygments_lexer": "ipython3",
   "version": "3.9.12"
  },
  "orig_nbformat": 4
 },
 "nbformat": 4,
 "nbformat_minor": 2
}
